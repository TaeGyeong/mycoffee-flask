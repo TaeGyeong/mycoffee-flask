{
 "cells": [
  {
   "cell_type": "code",
   "execution_count": 1,
   "metadata": {},
   "outputs": [],
   "source": [
    "from pyspark import SparkContext, SparkConf\n",
    "from pyspark.sql import SparkSession\n",
    "\n",
    "spark = SparkSession.builder \\\n",
    "    .master('local[*]') \\\n",
    "    .config('spark.driver.memory', '15g') \\\n",
    "    .appName('cafe-build-recommender') \\\n",
    "    .getOrCreate()\n",
    "\n",
    "sc = spark.sparkContext"
   ]
  },
  {
   "cell_type": "code",
   "execution_count": 2,
   "metadata": {},
   "outputs": [],
   "source": [
    "import os\n",
    "datasets_path = os.path.join('..', 'data')"
   ]
  },
  {
   "cell_type": "code",
   "execution_count": 3,
   "metadata": {},
   "outputs": [],
   "source": [
    "rating_file = os.path.join(datasets_path, 'rating.csv')\n",
    "ratings_raw_data = sc.textFile(rating_file)\n",
    "ratings_raw_data_header = ratings_raw_data.take(1)[0]"
   ]
  },
  {
   "cell_type": "code",
   "execution_count": 4,
   "metadata": {},
   "outputs": [],
   "source": [
    "ratings_data = ratings_raw_data.filter(lambda line: line != ratings_raw_data_header)\\\n",
    "    .map(lambda line: line.split(\",\"))\\\n",
    "    .map(lambda tokens: (tokens[1], tokens[0].replace(\"-\", \"\"), tokens[2])).cache()"
   ]
  },
  {
   "cell_type": "code",
   "execution_count": 5,
   "metadata": {},
   "outputs": [
    {
     "data": {
      "text/plain": [
       "[('1', '5610000104201900272', '10'),\n",
       " ('1', '5610000104201900212', '10'),\n",
       " ('1', '3770000104201900160', '10')]"
      ]
     },
     "execution_count": 5,
     "metadata": {},
     "output_type": "execute_result"
    }
   ],
   "source": [
    "ratings_data.take(3)"
   ]
  },
  {
   "cell_type": "markdown",
   "metadata": {},
   "source": [
    "데이터순서: (유저ID, 카페ID, LIKE)\n",
    "(3760000-104-2019-00185) 이런식의 카페 ID 에서 -를 삭제해서 사용한다.\n",
    "(7)-(3)-(4)-(5) 형태의 총 19 자리의 관리번호."
   ]
  },
  {
   "cell_type": "code",
   "execution_count": 16,
   "metadata": {
    "scrolled": true
   },
   "outputs": [
    {
     "data": {
      "text/plain": [
       "[('5610000104201800133', '커피에반하다영통구청2호점'),\n",
       " ('3770000104201900191', '시에커피(sie coffee)'),\n",
       " ('3760000104201900185', '날쌘카페(탑동점)')]"
      ]
     },
     "execution_count": 16,
     "metadata": {},
     "output_type": "execute_result"
    }
   ],
   "source": [
    "cafe_file = os.path.join(datasets_path, 'data.csv')\n",
    "\n",
    "cafe_raw_data = sc.textFile(cafe_file)\n",
    "cafe_raw_data_header = cafe_raw_data.take(1)[0]\n",
    "\n",
    "headerList = str(cafe_raw_data_header).split(\",\") # 관리번호 = PK\n",
    "need_column = ['관리번호', '영업상태구분코드', '영업상태명', '소재지전화',\\\n",
    "        '소재지면적','소재지전체주소', '도로명전체주소', '사업장명', '최종수정시점',\\\n",
    "        '업태구분명', '좌표정보(X)', '좌표정보(Y)', '시설총규모', '홈페이지']\n",
    "need_column_index = []\n",
    "column_list = []\n",
    "for i, value in enumerate(headerList):\n",
    "    if str(value) in need_column:\n",
    "        need_column_index.append(i)\n",
    "        column_list.append(str(value))\n",
    "\n",
    "cafe_data = cafe_raw_data.filter(lambda line: line!=cafe_raw_data_header) \\\n",
    "    .map(lambda line: line.split(\",\")) \\\n",
    "    .filter(lambda tokens: tokens[24] == '커피숍' and tokens[7] =='영업/정상')\\\n",
    "    .map(lambda tokens: [tokens[i] for i in need_column_index]) \\\n",
    "    .filter(lambda tokens: tokens[5].split()[0] == '경기도' or tokens[5].split()[0] == '충청북도')\\\n",
    "    .map(lambda tokens: (tokens[0].replace(\"-\", \"\"), tokens[7]))\n",
    "\n",
    "cafe_data.take(3)"
   ]
  },
  {
   "cell_type": "markdown",
   "metadata": {},
   "source": [
    "여기까지 데이터 세팅 완료"
   ]
  },
  {
   "cell_type": "code",
   "execution_count": 17,
   "metadata": {},
   "outputs": [
    {
     "name": "stdout",
     "output_type": "stream",
     "text": [
      "[(('1', 0, '10'), 0), (('1', 2, '10'), 2), (('1', 4, '10'), 4), (('1', 6, '10'), 6), (('1', 8, '10'), 8), (('1', 10, '10'), 10), (('1', 12, '10'), 12), (('1', 14, '10'), 14), (('1', 16, '10'), 16), (('1', 18, '10'), 18)]\n"
     ]
    },
    {
     "data": {
      "text/plain": [
       "[('1', 0, '10'), ('1', 2, '10'), ('1', 4, '10')]"
      ]
     },
     "execution_count": 17,
     "metadata": {},
     "output_type": "execute_result"
    }
   ],
   "source": [
    "###### cafe 데이터 integer mapping #######\n",
    "\n",
    "ratings_with_unique_id = ratings_data.zipWithUniqueId()\n",
    "print(ratings_with_unique_id.take(10))\n",
    "ratings_data = ratings_with_unique_id.map(lambda tokens: (tokens[0][0], tokens[1], tokens[0][2]))\n",
    "ratings_data.take(3)"
   ]
  },
  {
   "cell_type": "markdown",
   "metadata": {},
   "source": [
    "integer_map_list << ALS 에서 training_RDD 의 값이 integer 만 사용가능해서 mapping 한 데이터를 사용해서 ratings 의 값들을 integer 값으로 변경."
   ]
  },
  {
   "cell_type": "code",
   "execution_count": 18,
   "metadata": {},
   "outputs": [],
   "source": [
    "training_RDD, validation_RDD, test_RDD = ratings_data.randomSplit([6, 2, 2], seed=0)\n",
    "validation_for_predict_RDD = validation_RDD.map(lambda x: (x[0], x[1]))\n",
    "test_for_predict_RDD = test_RDD.map(lambda x:(x[0], x[1]))"
   ]
  },
  {
   "cell_type": "code",
   "execution_count": 25,
   "metadata": {},
   "outputs": [
    {
     "data": {
      "text/plain": [
       "[('1', 0, '10'), ('1', 2, '10')]"
      ]
     },
     "execution_count": 25,
     "metadata": {},
     "output_type": "execute_result"
    }
   ],
   "source": [
    "training_RDD.take(2)"
   ]
  },
  {
   "cell_type": "code",
   "execution_count": null,
   "metadata": {
    "scrolled": false
   },
   "outputs": [
    {
     "name": "stdout",
     "output_type": "stream",
     "text": [
      "For rank 1 the RMSE is 0.0\n",
      "For rank 10 the RMSE is 0.0\n"
     ]
    }
   ],
   "source": [
    "from pyspark.mllib.recommendation import ALS\n",
    "import math\n",
    "\n",
    "seed = 10\n",
    "iterations = 10\n",
    "regularization_parameter = 0.1\n",
    "ranks = [1, 10, 100, 1000]\n",
    "errors = [0, 0, 0, 0]\n",
    "err = 0\n",
    "tolerance = 0.02\n",
    "\n",
    "min_error = float('inf')\n",
    "best_rank = -1\n",
    "best_iteration = -1\n",
    "for rank in ranks:\n",
    "    model = ALS.train(training_RDD, rank, seed=seed, iterations=iterations, lambda_=regularization_parameter)\n",
    "    predictions = model.predictAll(validation_for_predict_RDD).map(lambda r: ((r[0], r[1]), r[2]))\n",
    "    rates_and_preds = validation_RDD.map(lambda r: ((int(r[0]), int(r[1])), float(r[2]))).join(predictions)\n",
    "    error = math.sqrt(rates_and_preds.map(lambda r: (r[1][0] - r[1][1])**2).mean())\n",
    "    errors[err] = error\n",
    "    err += 1\n",
    "    print('For rank %s the RMSE is %s' % (rank, error))\n",
    "    if error < min_error:\n",
    "        min_error = error\n",
    "        best_rank = rank\n",
    "\n",
    "print('The best model was trained with rank %s' % best_rank)"
   ]
  },
  {
   "cell_type": "code",
   "execution_count": 30,
   "metadata": {},
   "outputs": [
    {
     "name": "stdout",
     "output_type": "stream",
     "text": [
      "[]\n",
      "[]\n"
     ]
    }
   ],
   "source": [
    "print(predictions.take(3))\n",
    "print(rates_and_preds.take(3))"
   ]
  },
  {
   "cell_type": "markdown",
   "metadata": {},
   "source": [
    "이제 유저의 레이팅을 추가해보자."
   ]
  },
  {
   "cell_type": "code",
   "execution_count": 21,
   "metadata": {},
   "outputs": [
    {
     "name": "stdout",
     "output_type": "stream",
     "text": [
      "New user ratings: [(0, 260, 10), (0, 24, 10), (0, 100, 10), (0, 682, 10), (0, 10, 10), (0, 4, 10), (0, 12, 10), (0, 492, 10), (0, 795, 10), (0, 2, 10)]\n"
     ]
    }
   ],
   "source": [
    "new_user_ID = 0\n",
    "\n",
    "# The format of each line is (userID, movieID, rating)\n",
    "new_user_ratings = [\n",
    "     (0,260,10),\n",
    "     (0,24,10),\n",
    "     (0,100,10),\n",
    "     (0,682,10),\n",
    "     (0,10,10),\n",
    "     (0,4,10),\n",
    "     (0,12,10),\n",
    "     (0,492,10),\n",
    "     (0,795,10),\n",
    "     (0,2,10)\n",
    "    ]\n",
    "new_user_ratings_RDD = sc.parallelize(new_user_ratings)\n",
    "print('New user ratings: %s' % new_user_ratings_RDD.take(10))"
   ]
  },
  {
   "cell_type": "code",
   "execution_count": null,
   "metadata": {},
   "outputs": [],
   "source": []
  }
 ],
 "metadata": {
  "kernelspec": {
   "display_name": "Python 3",
   "language": "python",
   "name": "python3"
  },
  "language_info": {
   "codemirror_mode": {
    "name": "ipython",
    "version": 3
   },
   "file_extension": ".py",
   "mimetype": "text/x-python",
   "name": "python",
   "nbconvert_exporter": "python",
   "pygments_lexer": "ipython3",
   "version": "3.7.3"
  }
 },
 "nbformat": 4,
 "nbformat_minor": 2
}
