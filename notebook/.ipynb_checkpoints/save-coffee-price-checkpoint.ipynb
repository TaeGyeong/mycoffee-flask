{
 "cells": [
  {
   "cell_type": "code",
   "execution_count": 20,
   "metadata": {},
   "outputs": [],
   "source": [
    "from selenium import webdriver\n",
    "from selenium.webdriver.support.ui import WebDriverWait\n",
    "from selenium.webdriver.support import expected_conditions\n",
    "from difflib import SequenceMatcher\n",
    "from bs4 import BeautifulSoup\n",
    "\n",
    "import time\n",
    "\n",
    "class search_save_CSV:\n",
    "    def __init__(self, search_text):\n",
    "        self.driver = webdriver.Chrome(\"./chromedriver.exe\")\n",
    "        self.driver.get(\"https://m.map.naver.com/\")\n",
    "        self.driver.implicitly_wait(3)\n",
    "        self.search_ = search_text\n",
    "        self.driver.find_element_by_class_name(\"Nsearch._searchKeywordView._searchGuide\").click()\n",
    "        self.driver.find_element_by_class_name(\"Nbox_input_text._search_input\").send_keys(self.search_)\n",
    "        self.driver.find_element_by_class_name(\"_formSearch\").submit()\n",
    "        time.sleep(3)\n",
    "        \n",
    "    def search_and_save(self):\n",
    "        searchList = self.driver.find_elements_by_class_name(\"_item._lazyImgContainer\")\n",
    "        choicePer, choiceIndex = 0, -1\n",
    "        for i, element in enumerate(searchList):\n",
    "            # print(i, \":\", element.get_attribute(\"data-title\"))    \n",
    "            ratio = self.getMatchPercent(element.get_attribute(\"data-title\"), self.search_)\n",
    "            print(\"{0:.1f}%\".format(ratio))\n",
    "            \n",
    "            if ratio < 50:\n",
    "                pass\n",
    "            else:\n",
    "                if choicePer < ratio:\n",
    "                    choicePer = ratio\n",
    "                    choiceIndex = i\n",
    "        if choiceIndex == -1:\n",
    "            print(\"일치결과 없음\")\n",
    "            return False\n",
    "        else:\n",
    "            print(\"선택 index {0} : {1} 과의 일치율 {2:.1f}\".format(choiceIndex, self.search_, choicePer))\n",
    "            self.index = choiceIndex\n",
    "            return True\n",
    "        \n",
    "    def get_menu_list(self): \n",
    "        elements = self.driver.find_elements_by_class_name(\"sp_map.btn_price._linkMenu\")\n",
    "        print(elements[self.index].click())\n",
    "        time.sleep(3)\n",
    "        \n",
    "        temp = str(self.driver.current_url)\n",
    "        temp = temp[:-4] + 'menu/list'\n",
    "        print(temp)\n",
    "        self.driver.get(temp)\n",
    "        \n",
    "        soup = BeautifulSoup(self.driver.page_source, 'html.parser')\n",
    "        elements = soup.find_all(\"li\", class_=\"_1jXsR\")\n",
    "        menuName = soup.find_all(\"span\", class_=\"_1zr5s\")\n",
    "        menuPrice = soup.find_all(\"div\", class_=\"_1cQ4a\")\n",
    "\n",
    "        for i, menu in enumerate(menuName):\n",
    "            print(i, menu.text, \":\", menuPrice[i].text)\n",
    "        return menuName, menuPrice\n",
    "        \n",
    "    def getMatchPercent(self, one, two):\n",
    "        s = SequenceMatcher(None, one, two)\n",
    "        return s.ratio() * 100"
   ]
  },
  {
   "cell_type": "code",
   "execution_count": 21,
   "metadata": {
    "scrolled": true
   },
   "outputs": [
    {
     "name": "stdout",
     "output_type": "stream",
     "text": [
      "55.6%\n",
      "50.0%\n",
      "35.3%\n",
      "선택 index 0 : 장락동 이디야커피 과의 일치율 55.6\n",
      "None\n",
      "https://m.place.naver.com/restaurant/1983010856/menu/list\n",
      "0 카페 아메리카노 : 2,800원\n",
      "1 카페라떼 : 3,200원\n",
      "2 카푸치노 : 3,200원\n",
      "3 카페모카 : 3,500원\n",
      "4 카라멜 마끼아또 : 3,500원\n",
      "5 바닐라라떼 : 3,500원\n",
      "6 화이트 초콜릿 모카 : 3,500원\n",
      "7 민트모카 : 3,800원\n",
      "8 니트로커피 : 3,900원\n",
      "9 초콜릿 : 3,200원\n",
      "10 화이트 초콜릿 : 3,200원\n",
      "11 녹차라떼 : 3,200원\n",
      "12 민트 초콜릿 : 3,500원\n",
      "13 이곡라떼 : 3,500원\n",
      "14 토피넛라떼 : 3,500원\n"
     ]
    }
   ],
   "source": [
    "# test\n",
    "search = search_save_CSV(\"장락동 이디야커피\")\n",
    "flag = search.search_and_save()\n",
    "if flag:\n",
    "    search.get_menu_list()"
   ]
  },
  {
   "cell_type": "code",
   "execution_count": 19,
   "metadata": {},
   "outputs": [
    {
     "ename": "IndexError",
     "evalue": "list index out of range",
     "output_type": "error",
     "traceback": [
      "\u001b[1;31m---------------------------------------------------------------------------\u001b[0m",
      "\u001b[1;31mIndexError\u001b[0m                                Traceback (most recent call last)",
      "\u001b[1;32m<ipython-input-19-12d29de8907d>\u001b[0m in \u001b[0;36m<module>\u001b[1;34m\u001b[0m\n\u001b[1;32m----> 1\u001b[1;33m \u001b[0msearch\u001b[0m\u001b[1;33m.\u001b[0m\u001b[0mget_menu_list\u001b[0m\u001b[1;33m(\u001b[0m\u001b[1;33m)\u001b[0m\u001b[1;33m\u001b[0m\u001b[1;33m\u001b[0m\u001b[0m\n\u001b[0m",
      "\u001b[1;32m<ipython-input-16-aca2f6e6d992>\u001b[0m in \u001b[0;36mget_menu_list\u001b[1;34m(self)\u001b[0m\n\u001b[0;32m     42\u001b[0m     \u001b[1;32mdef\u001b[0m \u001b[0mget_menu_list\u001b[0m\u001b[1;33m(\u001b[0m\u001b[0mself\u001b[0m\u001b[1;33m)\u001b[0m\u001b[1;33m:\u001b[0m\u001b[1;33m\u001b[0m\u001b[1;33m\u001b[0m\u001b[0m\n\u001b[0;32m     43\u001b[0m         \u001b[0melements\u001b[0m \u001b[1;33m=\u001b[0m \u001b[0mself\u001b[0m\u001b[1;33m.\u001b[0m\u001b[0mdriver\u001b[0m\u001b[1;33m.\u001b[0m\u001b[0mfind_elements_by_class_name\u001b[0m\u001b[1;33m(\u001b[0m\u001b[1;34m\"sp_map.btn_price._linkMenu\"\u001b[0m\u001b[1;33m)\u001b[0m\u001b[1;33m\u001b[0m\u001b[1;33m\u001b[0m\u001b[0m\n\u001b[1;32m---> 44\u001b[1;33m         \u001b[0mprint\u001b[0m\u001b[1;33m(\u001b[0m\u001b[0melements\u001b[0m\u001b[1;33m[\u001b[0m\u001b[0mself\u001b[0m\u001b[1;33m.\u001b[0m\u001b[0mindex\u001b[0m\u001b[1;33m]\u001b[0m\u001b[1;33m.\u001b[0m\u001b[0mclick\u001b[0m\u001b[1;33m(\u001b[0m\u001b[1;33m)\u001b[0m\u001b[1;33m)\u001b[0m\u001b[1;33m\u001b[0m\u001b[1;33m\u001b[0m\u001b[0m\n\u001b[0m\u001b[0;32m     45\u001b[0m         \u001b[0mtime\u001b[0m\u001b[1;33m.\u001b[0m\u001b[0msleep\u001b[0m\u001b[1;33m(\u001b[0m\u001b[1;36m3\u001b[0m\u001b[1;33m)\u001b[0m\u001b[1;33m\u001b[0m\u001b[1;33m\u001b[0m\u001b[0m\n\u001b[0;32m     46\u001b[0m \u001b[1;33m\u001b[0m\u001b[0m\n",
      "\u001b[1;31mIndexError\u001b[0m: list index out of range"
     ]
    }
   ],
   "source": []
  },
  {
   "cell_type": "code",
   "execution_count": null,
   "metadata": {},
   "outputs": [],
   "source": []
  }
 ],
 "metadata": {
  "kernelspec": {
   "display_name": "Python 3",
   "language": "python",
   "name": "python3"
  },
  "language_info": {
   "codemirror_mode": {
    "name": "ipython",
    "version": 3
   },
   "file_extension": ".py",
   "mimetype": "text/x-python",
   "name": "python",
   "nbconvert_exporter": "python",
   "pygments_lexer": "ipython3",
   "version": "3.7.3"
  }
 },
 "nbformat": 4,
 "nbformat_minor": 2
}
