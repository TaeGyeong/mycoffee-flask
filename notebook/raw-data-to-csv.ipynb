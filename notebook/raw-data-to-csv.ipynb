{
 "cells": [
  {
   "cell_type": "code",
   "execution_count": 1,
   "metadata": {},
   "outputs": [],
   "source": [
    "import os, csv, json\n",
    "import xml.etree.cElementTree as ET\n",
    "\n",
    "filename = '../data/fulldata_07_24_05_P_휴게음식점.xml'"
   ]
  },
  {
   "cell_type": "code",
   "execution_count": 2,
   "metadata": {},
   "outputs": [],
   "source": [
    "if not os.path.exists(filename): exit()\n",
    "else:\n",
    "    tree = ET.parse(filename)\n",
    "    root = tree.getroot()\n",
    "    dict_text, dict_keys = [], []\n",
    "    columns = root.find('header').find('columns')\n",
    "    for item in columns:\n",
    "        dict_keys.append(str(item.tag))\n",
    "        dict_text.append(str(item.text))\n",
    "    mdlist = []\n",
    "    mdlist.append(dict_text)\n",
    "    for child in root.find('body').find('rows').findall('row'):\n",
    "        temp = []\n",
    "        for key in dict_keys:\n",
    "            t = str(child.find(key).text)\n",
    "            b = t.replace(\",\", \" \").replace('\"', \"\")\n",
    "            temp.append(b)\n",
    "        mdlist.append(temp)"
   ]
  },
  {
   "cell_type": "code",
   "execution_count": 3,
   "metadata": {},
   "outputs": [],
   "source": [
    "newfilename = os.path.abspath(\"../data/data.csv\")\n",
    "fh = open(newfilename, \"w\", newline=\"\", encoding='utf-8')\n",
    "writer = csv.writer(fh)\n",
    "for row in mdlist:\n",
    "    writer.writerow(row)\n",
    "fh.close()"
   ]
  },
  {
   "cell_type": "code",
   "execution_count": null,
   "metadata": {},
   "outputs": [],
   "source": []
  }
 ],
 "metadata": {
  "kernelspec": {
   "display_name": "Python 3",
   "language": "python",
   "name": "python3"
  },
  "language_info": {
   "codemirror_mode": {
    "name": "ipython",
    "version": 3
   },
   "file_extension": ".py",
   "mimetype": "text/x-python",
   "name": "python",
   "nbconvert_exporter": "python",
   "pygments_lexer": "ipython3",
   "version": "3.7.3"
  }
 },
 "nbformat": 4,
 "nbformat_minor": 2
}
